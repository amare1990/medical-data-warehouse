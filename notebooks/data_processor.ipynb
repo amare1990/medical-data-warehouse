{
 "cells": [
  {
   "cell_type": "code",
   "execution_count": 1,
   "id": "da6f368a-6e14-4459-8e55-a8ccb1bc1c33",
   "metadata": {},
   "outputs": [
    {
     "data": {
      "text/plain": [
       "('/home/am/Documents/Software Development/10_Academy Training/week7/medical-data-warehouse/notebooks',\n",
       " '/home/am/Documents/Software Development/10_Academy Training/week7/medical-data-warehouse')"
      ]
     },
     "execution_count": 1,
     "metadata": {},
     "output_type": "execute_result"
    }
   ],
   "source": [
    "import os, sys\n",
    "curr_dir = os.getcwd()\n",
    "parent_dir = os.path.dirname(curr_dir)\n",
    "sys.path.insert(0, parent_dir)\n",
    "curr_dir, parent_dir"
   ]
  },
  {
   "cell_type": "code",
   "execution_count": null,
   "id": "daa698e3-eb49-40e8-a3cb-a7a6141ef712",
   "metadata": {},
   "outputs": [
    {
     "name": "stderr",
     "output_type": "stream",
     "text": [
      "2025-02-04 00:50:44,960 - INFO - Successfully loaded raw data from ../data/scraped_data.csv\n",
      "2025-02-04 00:50:44,965 - INFO - Data cleaning completed successfully.\n",
      "2025-02-04 00:50:44,982 - INFO - Cleaned data saved to ../data/cleaned_data.csv\n",
      "2025-02-04 00:50:45,742 - INFO - Data stored in PostgreSQL database (Table: medical_data)\n",
      "2025-02-04 00:50:45,745 - INFO - Data successfully stored in PostgreSQL (Table: medical_data)\n"
     ]
    },
    {
     "name": "stdout",
     "output_type": "stream",
     "text": [
      "\u001b[0m21:50:47  Running with dbt=1.8.7\n",
      "\u001b[0m21:50:47  A project called my_project already exists here.\n"
     ]
    },
    {
     "name": "stderr",
     "output_type": "stream",
     "text": [
      "2025-02-04 00:50:48,280 - INFO - ✅ DBT project 'my_project' initialized successfully.\n"
     ]
    },
    {
     "name": "stdout",
     "output_type": "stream",
     "text": [
      "\u001b[0m21:50:49  Running with dbt=1.8.7\n",
      "\u001b[0m21:50:49  Registered adapter: postgres=1.8.2\n",
      "\u001b[0m21:50:50  Found 2 models, 4 data tests, 423 macros\n",
      "\u001b[0m21:50:50  \n",
      "\u001b[0m21:50:50  Concurrency: 1 threads (target='dev')\n",
      "\u001b[0m21:50:50  \n",
      "\u001b[0m21:50:50  1 of 2 START sql table model medical_db.my_first_dbt_model ..................... [RUN]\n",
      "\u001b[0m21:50:50  1 of 2 OK created sql table model medical_db.my_first_dbt_model ................ [\u001b[32mSELECT 2\u001b[0m in 0.38s]\n",
      "\u001b[0m21:50:50  2 of 2 START sql view model medical_db.my_second_dbt_model ..................... [RUN]\n",
      "\u001b[0m21:50:50  2 of 2 OK created sql view model medical_db.my_second_dbt_model ................ [\u001b[32mCREATE VIEW\u001b[0m in 0.16s]\n",
      "\u001b[0m21:50:50  \n",
      "\u001b[0m21:50:50  Finished running 1 table model, 1 view model in 0 hours 0 minutes and 0.72 seconds (0.72s).\n",
      "\u001b[0m21:50:50  \n",
      "\u001b[0m21:50:50  \u001b[32mCompleted successfully\u001b[0m\n",
      "\u001b[0m21:50:50  \n",
      "\u001b[0m21:50:50  Done. PASS=2 WARN=0 ERROR=0 SKIP=0 TOTAL=2\n"
     ]
    },
    {
     "name": "stderr",
     "output_type": "stream",
     "text": [
      "2025-02-04 00:50:52,310 - INFO - DBT models executed successfully.\n"
     ]
    },
    {
     "name": "stdout",
     "output_type": "stream",
     "text": [
      "\u001b[0m21:50:53  Running with dbt=1.8.7\n",
      "\u001b[0m21:50:53  Registered adapter: postgres=1.8.2\n",
      "\u001b[0m21:50:54  Found 2 models, 4 data tests, 423 macros\n",
      "\u001b[0m21:50:54  \n",
      "\u001b[0m21:50:54  Concurrency: 1 threads (target='dev')\n",
      "\u001b[0m21:50:54  \n",
      "\u001b[0m21:50:54  1 of 4 START test not_null_my_first_dbt_model_id ............................... [RUN]\n",
      "\u001b[0m21:50:54  1 of 4 FAIL 1 not_null_my_first_dbt_model_id ................................... [\u001b[31mFAIL 1\u001b[0m in 0.10s]\n",
      "\u001b[0m21:50:54  2 of 4 START test not_null_my_second_dbt_model_id .............................. [RUN]\n",
      "\u001b[0m21:50:54  2 of 4 PASS not_null_my_second_dbt_model_id .................................... [\u001b[32mPASS\u001b[0m in 0.04s]\n",
      "\u001b[0m21:50:54  3 of 4 START test unique_my_first_dbt_model_id ................................. [RUN]\n",
      "\u001b[0m21:50:54  3 of 4 PASS unique_my_first_dbt_model_id ....................................... [\u001b[32mPASS\u001b[0m in 0.05s]\n",
      "\u001b[0m21:50:54  4 of 4 START test unique_my_second_dbt_model_id ................................ [RUN]\n",
      "\u001b[0m21:50:54  4 of 4 PASS unique_my_second_dbt_model_id ...................................... [\u001b[32mPASS\u001b[0m in 0.04s]\n",
      "\u001b[0m21:50:54  \n",
      "\u001b[0m21:50:54  Finished running 4 data tests in 0 hours 0 minutes and 0.41 seconds (0.41s).\n",
      "\u001b[0m21:50:54  \n",
      "\u001b[0m21:50:54  \u001b[31mCompleted with 1 error and 0 warnings:\u001b[0m\n",
      "\u001b[0m21:50:54  \n",
      "\u001b[0m21:50:54  \u001b[31mFailure in test not_null_my_first_dbt_model_id (models/example/schema.yml)\u001b[0m\n",
      "\u001b[0m21:50:54    Got 1 result, configured to fail if != 0\n",
      "\u001b[0m21:50:54  \n",
      "\u001b[0m21:50:54    compiled code at target/compiled/my_project/models/example/schema.yml/not_null_my_first_dbt_model_id.sql\n",
      "\u001b[0m21:50:54  \n",
      "\u001b[0m21:50:54  Done. PASS=3 WARN=0 ERROR=1 SKIP=0 TOTAL=4\n"
     ]
    },
    {
     "name": "stderr",
     "output_type": "stream",
     "text": [
      "2025-02-04 00:50:55,959 - ERROR - Error testing DBT models: Command '['dbt', 'test']' returned non-zero exit status 1.\n"
     ]
    },
    {
     "name": "stdout",
     "output_type": "stream",
     "text": [
      "\u001b[0m21:50:57  Running with dbt=1.8.7\n",
      "\u001b[0m21:50:57  Registered adapter: postgres=1.8.2\n",
      "\u001b[0m21:50:58  Found 2 models, 4 data tests, 423 macros\n",
      "\u001b[0m21:50:58  \n",
      "\u001b[0m21:50:58  Concurrency: 1 threads (target='dev')\n",
      "\u001b[0m21:50:58  \n",
      "\u001b[0m21:50:58  Building catalog\n",
      "\u001b[0m21:50:59  Catalog written to /home/am/Documents/Software Development/10_Academy Training/week7/medical-data-warehouse/my_project/target/catalog.json\n",
      "\u001b[0m21:51:01  Running with dbt=1.8.7\n",
      "Serving docs at 8080\n",
      "To access from your browser, navigate to: http://localhost:8080\n",
      "\n",
      "\n",
      "\n",
      "Press Ctrl+C to exit.\n"
     ]
    }
   ],
   "source": [
    "from scripts.data_cleaning import DataProcessor\n",
    "# from scripts.database_setup import DatabaseHandler\n",
    "processor = DataProcessor()\n",
    "processor.process_data()"
   ]
  },
  {
   "cell_type": "code",
   "execution_count": null,
   "id": "2a1eca81-df27-41d3-ac2e-cbd36c17a713",
   "metadata": {},
   "outputs": [],
   "source": []
  }
 ],
 "metadata": {
  "kernelspec": {
   "display_name": "Python 3 (ipykernel)",
   "language": "python",
   "name": "python3"
  },
  "language_info": {
   "codemirror_mode": {
    "name": "ipython",
    "version": 3
   },
   "file_extension": ".py",
   "mimetype": "text/x-python",
   "name": "python",
   "nbconvert_exporter": "python",
   "pygments_lexer": "ipython3",
   "version": "3.8.10"
  }
 },
 "nbformat": 4,
 "nbformat_minor": 5
}
