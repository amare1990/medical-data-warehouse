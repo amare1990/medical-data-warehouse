{
 "cells": [
  {
   "cell_type": "code",
   "execution_count": 1,
   "id": "da6f368a-6e14-4459-8e55-a8ccb1bc1c33",
   "metadata": {},
   "outputs": [
    {
     "data": {
      "text/plain": [
       "('/home/am/Documents/Software Development/10_Academy Training/week7/medical-data-warehouse/notebooks',\n",
       " '/home/am/Documents/Software Development/10_Academy Training/week7/medical-data-warehouse')"
      ]
     },
     "execution_count": 1,
     "metadata": {},
     "output_type": "execute_result"
    }
   ],
   "source": [
    "import os, sys\n",
    "curr_dir = os.getcwd()\n",
    "parent_dir = os.path.dirname(curr_dir)\n",
    "sys.path.insert(0, parent_dir)\n",
    "curr_dir, parent_dir"
   ]
  },
  {
   "cell_type": "code",
   "execution_count": 2,
   "id": "daa698e3-eb49-40e8-a3cb-a7a6141ef712",
   "metadata": {},
   "outputs": [
    {
     "name": "stderr",
     "output_type": "stream",
     "text": [
      "2025-02-03 22:09:52,840 - INFO - Successfully loaded raw data from ../data/scraped_data.csv\n",
      "2025-02-03 22:09:52,992 - INFO - Data cleaning completed successfully.\n",
      "2025-02-03 22:09:53,023 - INFO - Cleaned data saved to ../data/cleaned_data.csv\n",
      "2025-02-03 22:09:53,056 - ERROR - Error storing data in PostgreSQL: connection to server at \"localhost\" (127.0.0.1), port 5432 failed: FATAL:  password authentication failed for user \"postgresql\"\n",
      "connection to server at \"localhost\" (127.0.0.1), port 5432 failed: FATAL:  password authentication failed for user \"postgresql\"\n",
      "\n",
      "2025-02-03 22:09:53,057 - INFO - Data successfully stored in PostgreSQL (Table: medical_data)\n"
     ]
    },
    {
     "name": "stdout",
     "output_type": "stream",
     "text": [
      "\u001b[0m19:09:56  Running with dbt=1.8.7\n",
      "\u001b[0m19:09:57  A project called my_project already exists here.\n"
     ]
    },
    {
     "name": "stderr",
     "output_type": "stream",
     "text": [
      "2025-02-03 22:09:58,861 - INFO - ✅ DBT project 'my_project' initialized successfully.\n"
     ]
    },
    {
     "name": "stdout",
     "output_type": "stream",
     "text": [
      "\u001b[0m19:10:00  Running with dbt=1.8.7\n",
      "\u001b[0m19:10:00  Encountered an error:\n",
      "Runtime Error\n",
      "  No dbt_project.yml found at expected path /home/am/Documents/Software Development/10_Academy Training/week7/medical-data-warehouse/notebooks/dbt_project.yml\n",
      "  Verify that each entry within packages.yml (and their transitive dependencies) contains a file named dbt_project.yml\n",
      "  \n"
     ]
    },
    {
     "name": "stderr",
     "output_type": "stream",
     "text": [
      "2025-02-03 22:10:01,554 - ERROR - Error running DBT models: Command '['dbt', 'run']' returned non-zero exit status 2.\n"
     ]
    },
    {
     "name": "stdout",
     "output_type": "stream",
     "text": [
      "\u001b[0m19:10:02  Running with dbt=1.8.7\n",
      "\u001b[0m19:10:02  Encountered an error:\n",
      "Runtime Error\n",
      "  No dbt_project.yml found at expected path /home/am/Documents/Software Development/10_Academy Training/week7/medical-data-warehouse/notebooks/dbt_project.yml\n",
      "  Verify that each entry within packages.yml (and their transitive dependencies) contains a file named dbt_project.yml\n",
      "  \n"
     ]
    },
    {
     "name": "stderr",
     "output_type": "stream",
     "text": [
      "2025-02-03 22:10:04,174 - ERROR - Error testing DBT models: Command '['dbt', 'test']' returned non-zero exit status 2.\n"
     ]
    },
    {
     "name": "stdout",
     "output_type": "stream",
     "text": [
      "\u001b[0m19:10:05  Running with dbt=1.8.7\n",
      "\u001b[0m19:10:05  Encountered an error:\n",
      "Runtime Error\n",
      "  No dbt_project.yml found at expected path /home/am/Documents/Software Development/10_Academy Training/week7/medical-data-warehouse/notebooks/dbt_project.yml\n",
      "  Verify that each entry within packages.yml (and their transitive dependencies) contains a file named dbt_project.yml\n",
      "  \n"
     ]
    },
    {
     "name": "stderr",
     "output_type": "stream",
     "text": [
      "2025-02-03 22:10:07,589 - ERROR - Error generating DBT docs: Command '['dbt', 'docs', 'generate']' returned non-zero exit status 2.\n"
     ]
    }
   ],
   "source": [
    "from scripts.data_cleaning import DataProcessor\n",
    "# from scripts.database_setup import DatabaseHandler\n",
    "processor = DataProcessor()\n",
    "processor.process_data()"
   ]
  },
  {
   "cell_type": "code",
   "execution_count": null,
   "id": "2a1eca81-df27-41d3-ac2e-cbd36c17a713",
   "metadata": {},
   "outputs": [],
   "source": []
  }
 ],
 "metadata": {
  "kernelspec": {
   "display_name": "Python 3 (ipykernel)",
   "language": "python",
   "name": "python3"
  },
  "language_info": {
   "codemirror_mode": {
    "name": "ipython",
    "version": 3
   },
   "file_extension": ".py",
   "mimetype": "text/x-python",
   "name": "python",
   "nbconvert_exporter": "python",
   "pygments_lexer": "ipython3",
   "version": "3.8.10"
  }
 },
 "nbformat": 4,
 "nbformat_minor": 5
}
