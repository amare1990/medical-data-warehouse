{
 "cells": [
  {
   "cell_type": "code",
   "execution_count": 1,
   "id": "658ee2db-96fb-4ea5-b0df-66f130cea285",
   "metadata": {},
   "outputs": [
    {
     "data": {
      "text/plain": [
       "('/home/am/Documents/Software Development/10_Academy Training/week7/medical-data-warehouse/notebooks',\n",
       " '/home/am/Documents/Software Development/10_Academy Training/week7/medical-data-warehouse')"
      ]
     },
     "execution_count": 1,
     "metadata": {},
     "output_type": "execute_result"
    }
   ],
   "source": [
    "import os, sys\n",
    "curr_dir = os.getcwd()\n",
    "parent_dir = os.path.dirname(curr_dir)\n",
    "sys.path.insert(0, parent_dir)\n",
    "curr_dir, parent_dir"
   ]
  },
  {
   "cell_type": "code",
   "execution_count": 2,
   "id": "4d894bf0-bde3-4852-92a4-1ed92b552e0b",
   "metadata": {},
   "outputs": [
    {
     "name": "stderr",
     "output_type": "stream",
     "text": [
      "Using cache found in /home/am/.cache/torch/hub/ultralytics_yolov5_master\n",
      "YOLOv5 🚀 2025-2-4 Python-3.8.10 torch-2.4.1+cu121 CPU\n",
      "\n",
      "Fusing layers... \n",
      "YOLOv5s summary: 213 layers, 7225885 parameters, 0 gradients, 16.4 GFLOPs\n",
      "Adding AutoShape... \n"
     ]
    }
   ],
   "source": [
    "from scripts.object_detection import YoloObjectDetection\n",
    "detector = YoloObjectDetection()"
   ]
  },
  {
   "cell_type": "code",
   "execution_count": 3,
   "id": "b54c8cba-50e2-45d5-baee-9ff862c7f9a2",
   "metadata": {},
   "outputs": [
    {
     "name": "stderr",
     "output_type": "stream",
     "text": [
      "Using cache found in /home/am/.cache/torch/hub/ultralytics_yolov5_master\n",
      "YOLOv5 🚀 2025-2-4 Python-3.8.10 torch-2.4.1+cu121 CPU\n",
      "\n",
      "Fusing layers... \n",
      "YOLOv5s summary: 213 layers, 7225885 parameters, 0 gradients, 16.4 GFLOPs\n",
      "Adding AutoShape... \n"
     ]
    }
   ],
   "source": [
    "model = detector.load_model()"
   ]
  },
  {
   "cell_type": "code",
   "execution_count": null,
   "id": "5c018393-612a-4941-bdb6-2239145d883a",
   "metadata": {},
   "outputs": [],
   "source": [
    "# Ignore warnings\n",
    "import warnings\n",
    "warnings.simplefilter(\"ignore\", category=FutureWarning)\n",
    "\n",
    "# Run the rest of methods\n",
    "img_path = '../data/images/'\n",
    "detection_results = detector.detect_objects(img_path)"
   ]
  },
  {
   "cell_type": "code",
   "execution_count": 6,
   "id": "c174e43a-1750-4268-a64f-ab65cf596ef4",
   "metadata": {},
   "outputs": [
    {
     "name": "stdout",
     "output_type": "stream",
     "text": [
      "No objects detected!\n"
     ]
    }
   ],
   "source": [
    "processed_data = detector.process_detection_results()"
   ]
  },
  {
   "cell_type": "code",
   "execution_count": 7,
   "id": "91fce776-ace2-49a4-ab49-10ab8b72dd33",
   "metadata": {},
   "outputs": [
    {
     "data": {
      "text/plain": [
       "[]"
      ]
     },
     "execution_count": 7,
     "metadata": {},
     "output_type": "execute_result"
    }
   ],
   "source": [
    "processed_data"
   ]
  },
  {
   "cell_type": "code",
   "execution_count": 10,
   "id": "c6712ac0-f240-486c-a63f-06f84993de42",
   "metadata": {},
   "outputs": [],
   "source": [
    "# Store data into the postgres database\n",
    "from scripts.database_setup import DatabaseHandler\n",
    "db_handler = DatabaseHandler()\n",
    "detector.store_to_database(processed_data, db_handler)"
   ]
  },
  {
   "cell_type": "code",
   "execution_count": null,
   "id": "a85e8c10-3aaa-45aa-8c63-742ac5eb882e",
   "metadata": {},
   "outputs": [],
   "source": []
  }
 ],
 "metadata": {
  "kernelspec": {
   "display_name": "Python 3 (ipykernel)",
   "language": "python",
   "name": "python3"
  },
  "language_info": {
   "codemirror_mode": {
    "name": "ipython",
    "version": 3
   },
   "file_extension": ".py",
   "mimetype": "text/x-python",
   "name": "python",
   "nbconvert_exporter": "python",
   "pygments_lexer": "ipython3",
   "version": "3.8.10"
  }
 },
 "nbformat": 4,
 "nbformat_minor": 5
}
