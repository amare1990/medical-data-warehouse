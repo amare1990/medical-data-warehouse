{
 "cells": [
  {
   "cell_type": "code",
   "execution_count": null,
   "id": "658ee2db-96fb-4ea5-b0df-66f130cea285",
   "metadata": {},
   "outputs": [],
   "source": [
    "import os, sys\n",
    "curr_dir = os.getcwd()\n",
    "parent_dir = os.path.dirname(curr_dir)\n",
    "sys.path.insert(0, parent_dir)\n",
    "curr_dir, parent_dir"
   ]
  },
  {
   "cell_type": "code",
   "execution_count": null,
   "id": "4d894bf0-bde3-4852-92a4-1ed92b552e0b",
   "metadata": {},
   "outputs": [],
   "source": [
    "from scripts.object_detection import YoloObjectDetection\n",
    "detector = YoloObjectDetection()"
   ]
  },
  {
   "cell_type": "code",
   "execution_count": null,
   "id": "b54c8cba-50e2-45d5-baee-9ff862c7f9a2",
   "metadata": {},
   "outputs": [],
   "source": [
    "model = detector.load_model()"
   ]
  },
  {
   "cell_type": "code",
   "execution_count": null,
   "id": "5c018393-612a-4941-bdb6-2239145d883a",
   "metadata": {},
   "outputs": [],
   "source": [
    "# Ignore warnings\n",
    "import warnings\n",
    "warnings.simplefilter(\"ignore\", category=FutureWarning)\n",
    "\n",
    "# Run the rest of methods\n",
    "img_path = '../data/images/'\n",
    "detection_results = detector.detect_objects(img_path)"
   ]
  },
  {
   "cell_type": "code",
   "execution_count": null,
   "id": "c174e43a-1750-4268-a64f-ab65cf596ef4",
   "metadata": {},
   "outputs": [],
   "source": [
    "processed_data = detector.process_detection_results()"
   ]
  },
  {
   "cell_type": "code",
   "execution_count": null,
   "id": "91fce776-ace2-49a4-ab49-10ab8b72dd33",
   "metadata": {},
   "outputs": [],
   "source": [
    "processed_data"
   ]
  },
  {
   "cell_type": "code",
   "execution_count": null,
   "id": "c6712ac0-f240-486c-a63f-06f84993de42",
   "metadata": {},
   "outputs": [],
   "source": [
    "# Store data into the postgres database\n",
    "from scripts.database_setup import DatabaseHandler\n",
    "db_handler = DatabaseHandler()\n",
    "detector.store_to_database(processed_data, db_handler)"
   ]
  },
  {
   "cell_type": "code",
   "execution_count": null,
   "id": "a85e8c10-3aaa-45aa-8c63-742ac5eb882e",
   "metadata": {},
   "outputs": [],
   "source": []
  }
 ],
 "metadata": {
  "kernelspec": {
   "display_name": "Python 3 (ipykernel)",
   "language": "python",
   "name": "python3"
  },
  "language_info": {
   "codemirror_mode": {
    "name": "ipython",
    "version": 3
   },
   "file_extension": ".py",
   "mimetype": "text/x-python",
   "name": "python",
   "nbconvert_exporter": "python",
   "pygments_lexer": "ipython3",
   "version": "3.8.10"
  }
 },
 "nbformat": 4,
 "nbformat_minor": 5
}
